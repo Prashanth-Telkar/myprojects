{
 "cells": [
  {
   "cell_type": "code",
   "execution_count": 1,
   "metadata": {},
   "outputs": [],
   "source": [
    "game_list=[0,1,2]"
   ]
  },
  {
   "cell_type": "code",
   "execution_count": 2,
   "metadata": {},
   "outputs": [],
   "source": [
    "def display_game(game_list):\n",
    "    print('Here is the current list: ')\n",
    "    print(game_list)"
   ]
  },
  {
   "cell_type": "code",
   "execution_count": 3,
   "metadata": {},
   "outputs": [
    {
     "name": "stdout",
     "output_type": "stream",
     "text": [
      "Here is the current list: \n",
      "[0, 1, 2]\n"
     ]
    }
   ],
   "source": [
    "display_game(game_list)"
   ]
  },
  {
   "cell_type": "code",
   "execution_count": 4,
   "metadata": {},
   "outputs": [],
   "source": [
    "def position_choice():\n",
    "    choice='wrong'\n",
    "    \n",
    "    while choice not in ['0','1','2']:\n",
    "        \n",
    "        choice=input('Enter a digit (0,1,2): ')\n",
    "        if choice in ['0','1','2']:\n",
    "            return int(choice)\n",
    "        else:\n",
    "            print('Invalid entry')\n",
    "            pass"
   ]
  },
  {
   "cell_type": "code",
   "execution_count": 5,
   "metadata": {},
   "outputs": [],
   "source": [
    "def replacement_position(game_list,position):\n",
    "    user_placement=input('Enter the replacement string: ')\n",
    "    game_list[position]=user_placement\n",
    "    return game_list"
   ]
  },
  {
   "cell_type": "code",
   "execution_count": 6,
   "metadata": {},
   "outputs": [
    {
     "name": "stdout",
     "output_type": "stream",
     "text": [
      "Enter the replacement string: maya\n"
     ]
    },
    {
     "data": {
      "text/plain": [
       "[0, 'maya', 2]"
      ]
     },
     "execution_count": 6,
     "metadata": {},
     "output_type": "execute_result"
    }
   ],
   "source": [
    "replacement_position(game_list,1)"
   ]
  },
  {
   "cell_type": "code",
   "execution_count": 7,
   "metadata": {},
   "outputs": [],
   "source": [
    "def game_on():\n",
    "    choice='wrong'\n",
    "    \n",
    "    while choice not in ['Y','N']:\n",
    "        \n",
    "        choice=input('Would you like to continue: (Y OR N): ')\n",
    "        if choice in ['Y']:\n",
    "            return True\n",
    "        elif choice in ['N']:\n",
    "            return False\n",
    "        else:\n",
    "            print('Invalid entry')\n",
    "            pass"
   ]
  },
  {
   "cell_type": "code",
   "execution_count": 8,
   "metadata": {},
   "outputs": [
    {
     "name": "stdout",
     "output_type": "stream",
     "text": [
      "Here is the current list: \n",
      "[0, 1, 2]\n",
      "Enter a digit (0,1,2): 0\n",
      "Enter the replacement string: i\n",
      "Here is the current list: \n",
      "['i', 1, 2]\n",
      "Would you like to continue: (Y OR N): Y\n",
      "Here is the current list: \n",
      "['i', 1, 2]\n",
      "Enter a digit (0,1,2): 1\n",
      "Enter the replacement string: GOT\n",
      "Here is the current list: \n",
      "['i', 'GOT', 2]\n",
      "Would you like to continue: (Y OR N): Y\n",
      "Here is the current list: \n",
      "['i', 'GOT', 2]\n",
      "Enter a digit (0,1,2): 3\n",
      "Invalid entry\n",
      "Enter a digit (0,1,2): 2\n",
      "Enter the replacement string: IT\n",
      "Here is the current list: \n",
      "['i', 'GOT', 'IT']\n",
      "Would you like to continue: (Y OR N): N\n"
     ]
    }
   ],
   "source": [
    "game_oin=True\n",
    "game_list=[0,1,2]\n",
    "while game_oin:\n",
    "    display_game(game_list)\n",
    "    position=position_choice()\n",
    "    game_list=replacement_position(game_list,position)\n",
    "    display_game(game_list)\n",
    "    game_oin=game_on()"
   ]
  },
  {
   "cell_type": "code",
   "execution_count": 1,
   "metadata": {},
   "outputs": [],
   "source": [
    "def play():\n",
    "    s=True\n",
    "    while s:\n",
    "        position=int(input('Choose your position (1-9): '))\n",
    "        print(test_board)\n",
    "        test_board[position]='X'\n",
    "        print(display_board(test_board))\n",
    "        test_board=test_board"
   ]
  },
  {
   "cell_type": "code",
   "execution_count": 1,
   "metadata": {},
   "outputs": [],
   "source": [
    "\n",
    "            \n",
    "        \n",
    "\n",
    "        \n",
    "       \n",
    "\n"
   ]
  },
  {
   "cell_type": "code",
   "execution_count": null,
   "metadata": {},
   "outputs": [],
   "source": []
  },
  {
   "cell_type": "code",
   "execution_count": null,
   "metadata": {},
   "outputs": [],
   "source": []
  },
  {
   "cell_type": "code",
   "execution_count": null,
   "metadata": {},
   "outputs": [],
   "source": []
  },
  {
   "cell_type": "code",
   "execution_count": 2,
   "metadata": {},
   "outputs": [],
   "source": [
    "def player_choice():\n",
    "    while True:\n",
    "        po=input('Player 1: Which symbol would you like to take? (X or O): ')\n",
    "        if po=='X':\n",
    "            player_1='X'\n",
    "            player_2='O'\n",
    "            print('Player 1 = X\\nPlayer 2 = O')\n",
    "            return True\n",
    "        elif po=='O':\n",
    "            player_1='O'\n",
    "            player_2='X'\n",
    "            print('Player 1 = O\\nPlayer 2 = X')\n",
    "            return False\n",
    "        else:\n",
    "            print('Invalid input')"
   ]
  },
  {
   "cell_type": "code",
   "execution_count": 3,
   "metadata": {},
   "outputs": [],
   "source": [
    "test_board=['#',' ',' ',' ',' ',' ',' ',' ',' ',' ']"
   ]
  },
  {
   "cell_type": "code",
   "execution_count": 4,
   "metadata": {},
   "outputs": [],
   "source": [
    "def display_board(board):\n",
    "    print(board[7],'|',board[8],'|',board[9])\n",
    "    print('-','|','-','|','-')\n",
    "    print(board[4],'|',board[5],'|',board[6])\n",
    "    print('-','|','-','|','-')\n",
    "    print(board[1],'|',board[2],'|',board[3])"
   ]
  },
  {
   "cell_type": "code",
   "execution_count": 5,
   "metadata": {},
   "outputs": [],
   "source": [
    "def play1():\n",
    "    position=int(input('Player X: Choose your position (1-9): '))\n",
    "    test_board[position]='X'\n",
    "    print(display_board(test_board))"
   ]
  },
  {
   "cell_type": "code",
   "execution_count": 6,
   "metadata": {},
   "outputs": [],
   "source": [
    "def play2():\n",
    "    position=int(input('Player O: Choose your position (1-9): '))\n",
    "    test_board[position]='O'\n",
    "    print(display_board(test_board))"
   ]
  },
  {
   "cell_type": "code",
   "execution_count": 7,
   "metadata": {},
   "outputs": [],
   "source": [
    "def game():\n",
    "    \n",
    "    test_board=['#',' ',' ',' ',' ',' ',' ',' ',' ',' ']\n",
    "    t=player_choice()\n",
    "    if t==True:\n",
    "        for x in range(1,10):\n",
    "            if x%2==0:\n",
    "                play2()\n",
    "                check()\n",
    "            else:\n",
    "                play1()\n",
    "                check()\n",
    "    elif t==False:\n",
    "        for x in range(1,10):\n",
    "            if x%2==0:\n",
    "                play1()\n",
    "                check()\n",
    "            else:\n",
    "                play2()\n",
    "                check()"
   ]
  },
  {
   "cell_type": "code",
   "execution_count": null,
   "metadata": {},
   "outputs": [],
   "source": [
    "\n",
    "    \n",
    "        \n",
    "    "
   ]
  },
  {
   "cell_type": "code",
   "execution_count": 8,
   "metadata": {},
   "outputs": [],
   "source": [
    "def ask():\n",
    "    s=True\n",
    "    print('Welcome to Tic Tak Toe Game:\\nThis is the Tic Tak Toe board:\\n')\n",
    "    print('7','|','8','|','9')\n",
    "    print('-','|','-','|','-')\n",
    "    print('4','|','5','|','6')\n",
    "    print('-','|','-','|','-')\n",
    "    print('1','|','2','|','3')\n",
    "    while s:\n",
    "        \n",
    "        d=input('\\nWould you like to start the game? (Y or N): ')\n",
    "        if d=='Y':\n",
    "            game()\n",
    "        elif d=='N':\n",
    "            return 'Good bye'\n",
    "        else:\n",
    "            s=True\n",
    "            print('Invalid input')"
   ]
  },
  {
   "cell_type": "code",
   "execution_count": 12,
   "metadata": {},
   "outputs": [],
   "source": [
    "def check():\n",
    "    if test_board[1]==test_board[2]==test_board[3]=='X' or test_board[4]==test_board[5]==test_board[6]=='X' or test_board[7]==test_board[8]==test_board[9]=='X' or test_board[3]==test_board[5]==test_board[7]=='X' or test_board[1]==test_board[5]==test_board[9]=='X' or test_board[1]==test_board[4]==test_board[7]=='X' or test_board[2]==test_board[5]==test_board[8]=='X' or test_board[3]==test_board[6]==test_board[9]=='X' or test_board[1]==test_board[2]==test_board[3]=='O' or test_board[4]==test_board[5]==test_board[6]=='O' or test_board[7]==test_board[8]==test_board[9]=='O' or test_board[3]==test_board[5]==test_board[7]=='O' or test_board[1]==test_board[5]==test_board[9]=='O' or test_board[1]==test_board[4]==test_board[7]=='O' or test_board[2]==test_board[5]==test_board[8]=='O' or test_board[3]==test_board[6]==test_board[9]=='O':\n",
    "        print('CONGRATULATIONS! YOU WON THE GAME')\n",
    "        print('GAME OVER!')\n",
    "        \n",
    "        while True:\n",
    "            q=input('Would u like to play again? (Y or N): ')\n",
    "            if q=='Y':\n",
    "                from IPython.display import clear_output\n",
    "                clear_output()\n",
    "                ask()\n",
    "            elif q=='N':\n",
    "                return 'Good Bye!'\n",
    "            else:\n",
    "                return 'Invalid Input'"
   ]
  },
  {
   "cell_type": "code",
   "execution_count": null,
   "metadata": {},
   "outputs": [
    {
     "name": "stdout",
     "output_type": "stream",
     "text": [
      "Welcome to Tic Tak Toe Game:\n",
      "This is the Tic Tak Toe board:\n",
      "\n",
      "7 | 8 | 9\n",
      "- | - | -\n",
      "4 | 5 | 6\n",
      "- | - | -\n",
      "1 | 2 | 3\n",
      "\n",
      "Would you like to start the game? (Y or N): Y\n",
      "Player 1: Which symbol would you like to take? (X or O): X\n",
      "Player 1 = X\n",
      "Player 2 = O\n",
      "Player X: Choose your position (1-9): 1\n",
      "  |   |  \n",
      "- | - | -\n",
      "X |   |  \n",
      "- | - | -\n",
      "X |   |  \n",
      "None\n",
      "Player O: Choose your position (1-9): 7\n",
      "O |   |  \n",
      "- | - | -\n",
      "X |   |  \n",
      "- | - | -\n",
      "X |   |  \n",
      "None\n",
      "Player X: Choose your position (1-9): 5\n",
      "O |   |  \n",
      "- | - | -\n",
      "X | X |  \n",
      "- | - | -\n",
      "X |   |  \n",
      "None\n",
      "Player O: Choose your position (1-9): 5\n",
      "O |   |  \n",
      "- | - | -\n",
      "X | O |  \n",
      "- | - | -\n",
      "X |   |  \n",
      "None\n",
      "Player X: Choose your position (1-9): 2\n",
      "O |   |  \n",
      "- | - | -\n",
      "X | O |  \n",
      "- | - | -\n",
      "X | X |  \n",
      "None\n",
      "Player O: Choose your position (1-9): 3\n",
      "O |   |  \n",
      "- | - | -\n",
      "X | O |  \n",
      "- | - | -\n",
      "X | X | O\n",
      "None\n",
      "CONGRATULATIONS! YOU WON THE GAME\n",
      "GAME OVER!\n"
     ]
    }
   ],
   "source": [
    "ask()"
   ]
  },
  {
   "cell_type": "code",
   "execution_count": null,
   "metadata": {},
   "outputs": [],
   "source": []
  }
 ],
 "metadata": {
  "kernelspec": {
   "display_name": "Python 3",
   "language": "python",
   "name": "python3"
  },
  "language_info": {
   "codemirror_mode": {
    "name": "ipython",
    "version": 3
   },
   "file_extension": ".py",
   "mimetype": "text/x-python",
   "name": "python",
   "nbconvert_exporter": "python",
   "pygments_lexer": "ipython3",
   "version": "3.7.6"
  }
 },
 "nbformat": 4,
 "nbformat_minor": 4
}
