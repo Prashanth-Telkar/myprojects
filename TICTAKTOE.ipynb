{
 "cells": [
  {
   "cell_type": "code",
   "execution_count": 1,
   "metadata": {},
   "outputs": [],
   "source": [
    "test_board=['#',' ',' ',' ',' ',' ',' ',' ',' ',' ']"
   ]
  },
  {
   "cell_type": "code",
   "execution_count": 2,
   "metadata": {},
   "outputs": [],
   "source": [
    "def start():\n",
    "    print('Welcome to Tic Tak Toe Game:\\nThis is the Tic Tak Toe board:\\n')\n",
    "    print('7','|','8','|','9')\n",
    "    print('-','|','-','|','-')\n",
    "    print('4','|','5','|','6')\n",
    "    print('-','|','-','|','-')\n",
    "    print('1','|','2','|','3')\n",
    "    while True:\n",
    "        \n",
    "        d=input('\\nWould you like to start the game? (Y or N): ')\n",
    "        if d=='Y':\n",
    "            game()\n",
    "        elif d=='N':\n",
    "            return 'Good bye'\n",
    "        else:\n",
    "            print('Invalid input')"
   ]
  },
  {
   "cell_type": "code",
   "execution_count": 3,
   "metadata": {},
   "outputs": [],
   "source": [
    "def display_board(board):\n",
    "    print(board[7],'|',board[8],'|',board[9])\n",
    "    print('-','|','-','|','-')\n",
    "    print(board[4],'|',board[5],'|',board[6])\n",
    "    print('-','|','-','|','-')\n",
    "    print(board[1],'|',board[2],'|',board[3])"
   ]
  },
  {
   "cell_type": "code",
   "execution_count": 4,
   "metadata": {},
   "outputs": [],
   "source": [
    "def play1():\n",
    "    position=int(input('Player X: Choose your position (1-9): '))\n",
    "    test_board[position]='X'\n",
    "    print(display_board(test_board))"
   ]
  },
  {
   "cell_type": "code",
   "execution_count": 5,
   "metadata": {},
   "outputs": [],
   "source": [
    "def play2():\n",
    "    position=int(input('Player O: Choose your position (1-9): '))\n",
    "    test_board[position]='O'\n",
    "    print(display_board(test_board))"
   ]
  },
  {
   "cell_type": "code",
   "execution_count": 6,
   "metadata": {},
   "outputs": [],
   "source": [
    "def player_choice():\n",
    "    while True:\n",
    "        po=input('Player 1: Which symbol would you like to take? (X or O): ')\n",
    "        if po=='X':\n",
    "            player_1='X'\n",
    "            player_2='O'\n",
    "            print('Player 1 = X\\nPlayer 2 = O')\n",
    "            return True\n",
    "        elif po=='O':\n",
    "            player_1='O'\n",
    "            player_2='X'\n",
    "            print('Player 1 = O\\nPlayer 2 = X')\n",
    "            return False\n",
    "        else:\n",
    "            print('Invalid input')"
   ]
  },
  {
   "cell_type": "code",
   "execution_count": 7,
   "metadata": {},
   "outputs": [],
   "source": [
    "def game():\n",
    "    \n",
    "    test_board=['#',' ',' ',' ',' ',' ',' ',' ',' ',' ']\n",
    "    t=player_choice()\n",
    "    if t==True:\n",
    "        for x in range(1,10):\n",
    "            if x%2==0:\n",
    "                play2()\n",
    "                check()\n",
    "            else:\n",
    "                play1()\n",
    "                check()\n",
    "    elif t==False:\n",
    "        for x in range(1,10):\n",
    "            if x%2==0:\n",
    "                play1()\n",
    "                check()\n",
    "            else:\n",
    "                play2()\n",
    "                check()"
   ]
  },
  {
   "cell_type": "code",
   "execution_count": 8,
   "metadata": {},
   "outputs": [],
   "source": [
    "def check():\n",
    "    if test_board[1]==test_board[2]==test_board[3]=='X' or test_board[4]==test_board[5]==test_board[6]=='X' or test_board[7]==test_board[8]==test_board[9]=='X' or test_board[3]==test_board[5]==test_board[7]=='X' or test_board[1]==test_board[5]==test_board[9]=='X' or test_board[1]==test_board[4]==test_board[7]=='X' or test_board[2]==test_board[5]==test_board[8]=='X' or test_board[3]==test_board[6]==test_board[9]=='X' or test_board[1]==test_board[2]==test_board[3]=='O' or test_board[4]==test_board[5]==test_board[6]=='O' or test_board[7]==test_board[8]==test_board[9]=='O' or test_board[3]==test_board[5]==test_board[7]=='O' or test_board[1]==test_board[5]==test_board[9]=='O' or test_board[1]==test_board[4]==test_board[7]=='O' or test_board[2]==test_board[5]==test_board[8]=='O' or test_board[3]==test_board[6]==test_board[9]=='O':\n",
    "        print('CONGRATULATIONS! YOU WON THE GAME')\n",
    "        print('GAME OVER!')\n",
    "        \n",
    "        while True:\n",
    "            q=input('Would u like to play again? (Y or N): ')\n",
    "            if q=='Y':\n",
    "                from IPython.display import clear_output\n",
    "                clear_output()\n",
    "                ask()\n",
    "            elif q=='N':\n",
    "                return 'Good Bye!'\n",
    "            else:\n",
    "                return 'Invalid Input'"
   ]
  },
  {
   "cell_type": "code",
   "execution_count": null,
   "metadata": {},
   "outputs": [
    {
     "name": "stdout",
     "output_type": "stream",
     "text": [
      "Welcome to Tic Tak Toe Game:\n",
      "This is the Tic Tak Toe board:\n",
      "\n",
      "7 | 8 | 9\n",
      "- | - | -\n",
      "4 | 5 | 6\n",
      "- | - | -\n",
      "1 | 2 | 3\n",
      "\n",
      "Would you like to start the game? (Y or N): Y\n",
      "Player 1: Which symbol would you like to take? (X or O): O\n",
      "Player 1 = O\n",
      "Player 2 = X\n",
      "Player O: Choose your position (1-9): 1\n",
      "  |   |  \n",
      "- | - | -\n",
      "  |   |  \n",
      "- | - | -\n",
      "O |   |  \n",
      "None\n",
      "Player X: Choose your position (1-9): 4\n",
      "  |   |  \n",
      "- | - | -\n",
      "X |   |  \n",
      "- | - | -\n",
      "O |   |  \n",
      "None\n",
      "Player O: Choose your position (1-9): 5\n",
      "  |   |  \n",
      "- | - | -\n",
      "X | O |  \n",
      "- | - | -\n",
      "O |   |  \n",
      "None\n",
      "Player X: Choose your position (1-9): 7\n",
      "X |   |  \n",
      "- | - | -\n",
      "X | O |  \n",
      "- | - | -\n",
      "O |   |  \n",
      "None\n",
      "Player O: Choose your position (1-9): 9\n",
      "X |   | O\n",
      "- | - | -\n",
      "X | O |  \n",
      "- | - | -\n",
      "O |   |  \n",
      "None\n",
      "CONGRATULATIONS! YOU WON THE GAME\n",
      "GAME OVER!\n"
     ]
    }
   ],
   "source": [
    "start()"
   ]
  },
  {
   "cell_type": "code",
   "execution_count": null,
   "metadata": {},
   "outputs": [],
   "source": []
  }
 ],
 "metadata": {
  "kernelspec": {
   "display_name": "Python 3",
   "language": "python",
   "name": "python3"
  },
  "language_info": {
   "codemirror_mode": {
    "name": "ipython",
    "version": 3
   },
   "file_extension": ".py",
   "mimetype": "text/x-python",
   "name": "python",
   "nbconvert_exporter": "python",
   "pygments_lexer": "ipython3",
   "version": "3.7.6"
  }
 },
 "nbformat": 4,
 "nbformat_minor": 4
}
